{
  "nbformat": 4,
  "nbformat_minor": 0,
  "metadata": {
    "colab": {
      "provenance": [],
      "authorship_tag": "ABX9TyPBSG5181KN99hHXElgIYt+",
      "include_colab_link": true
    },
    "kernelspec": {
      "name": "python3",
      "display_name": "Python 3"
    },
    "language_info": {
      "name": "python"
    }
  },
  "cells": [
    {
      "cell_type": "markdown",
      "metadata": {
        "id": "view-in-github",
        "colab_type": "text"
      },
      "source": [
        "<a href=\"https://colab.research.google.com/github/dinakajoy/UsingLLMs-RAG-course/blob/main/1_Basics_of_Text_Generation.ipynb\" target=\"_parent\"><img src=\"https://colab.research.google.com/assets/colab-badge.svg\" alt=\"Open In Colab\"/></a>"
      ]
    },
    {
      "cell_type": "markdown",
      "source": [
        "# Text Generation"
      ],
      "metadata": {
        "id": "q6WfkwIbpfia"
      }
    },
    {
      "cell_type": "markdown",
      "source": [
        "## Setup"
      ],
      "metadata": {
        "id": "fA_QIIHspeC1"
      }
    },
    {
      "cell_type": "code",
      "execution_count": 1,
      "metadata": {
        "id": "omCnPGfwKzuI"
      },
      "outputs": [],
      "source": [
        "!pip install -q langchain-huggingface"
      ]
    },
    {
      "cell_type": "code",
      "source": [
        "from google.colab import userdata\n",
        "hf_key = userdata.get('HF_TOKEN')"
      ],
      "metadata": {
        "id": "ZW3KjymZp0O6"
      },
      "execution_count": 2,
      "outputs": []
    },
    {
      "cell_type": "markdown",
      "source": [
        "## Import libraries"
      ],
      "metadata": {
        "id": "phjyYy8QW6Gv"
      }
    },
    {
      "cell_type": "code",
      "source": [
        "# Set the HF key\n",
        "import os\n",
        "from langchain_huggingface import HuggingFaceEndpoint, ChatHuggingFace\n",
        "from langchain_core.messages import SystemMessage, HumanMessage\n",
        "from IPython.display import display, Markdown\n",
        "\n",
        "os.environ['HUGGINGFACEHUB_API_TOKEN'] = hf_key"
      ],
      "metadata": {
        "id": "gUr1R-bzW5M_"
      },
      "execution_count": 5,
      "outputs": []
    },
    {
      "cell_type": "code",
      "source": [
        "# Set the LLM\n",
        "repo_id = \"microsoft/Phi-4\"\n",
        "llm = HuggingFaceEndpoint(\n",
        "    repo_id=repo_id,\n",
        "    taks=\"generated_text\"\n",
        ")\n",
        "chat_model = ChatHuggingFace(llm=llm)"
      ],
      "metadata": {
        "colab": {
          "base_uri": "https://localhost:8080/"
        },
        "id": "cXoGmzceXJSI",
        "outputId": "e951a900-1c1e-4647-90e9-0cba578feb4d"
      },
      "execution_count": 8,
      "outputs": [
        {
          "output_type": "stream",
          "name": "stderr",
          "text": [
            "WARNING:langchain_huggingface.llms.huggingface_endpoint:WARNING! taks is not default parameter.\n",
            "                    taks was transferred to model_kwargs.\n",
            "                    Please make sure that taks is what you intended.\n"
          ]
        }
      ]
    },
    {
      "cell_type": "markdown",
      "source": [
        "## Text Generation"
      ],
      "metadata": {
        "id": "9MSHSiB-Y6Tj"
      }
    },
    {
      "cell_type": "code",
      "source": [
        "# Generate text\n",
        "chat_model.invoke(\"What is the capital of France?\")"
      ],
      "metadata": {
        "colab": {
          "base_uri": "https://localhost:8080/"
        },
        "id": "J0DuDxoeXkYu",
        "outputId": "91e296a5-6f12-43d2-89d9-c6b11ed45e08"
      },
      "execution_count": 9,
      "outputs": [
        {
          "output_type": "execute_result",
          "data": {
            "text/plain": [
              "AIMessage(content='The capital of France is Paris.', additional_kwargs={}, response_metadata={'token_usage': {'completion_tokens': 8, 'prompt_tokens': 14, 'total_tokens': 22}, 'model_name': 'microsoft/Phi-4', 'system_fingerprint': None, 'finish_reason': 'stop', 'logprobs': None}, id='run--8539a3b0-b894-424a-aef1-26bd20e15702-0', usage_metadata={'input_tokens': 14, 'output_tokens': 8, 'total_tokens': 22})"
            ]
          },
          "metadata": {},
          "execution_count": 9
        }
      ]
    },
    {
      "cell_type": "code",
      "source": [
        "# Display text in a nicer way\n",
        "ai_message = chat_model.invoke(\"What is the capital of France?\")\n",
        "display(Markdown(ai_message.content))"
      ],
      "metadata": {
        "colab": {
          "base_uri": "https://localhost:8080/",
          "height": 46
        },
        "id": "taZt4DLzZVGo",
        "outputId": "fb73cecd-0608-4fa1-b937-ba374134e7fd"
      },
      "execution_count": 12,
      "outputs": [
        {
          "output_type": "display_data",
          "data": {
            "text/plain": [
              "<IPython.core.display.Markdown object>"
            ],
            "text/markdown": "The capital of France is Paris."
          },
          "metadata": {}
        }
      ]
    },
    {
      "cell_type": "markdown",
      "source": [
        "## Generate text with System Message"
      ],
      "metadata": {
        "id": "6p4mrhE5aZh_"
      }
    },
    {
      "cell_type": "code",
      "source": [
        "# Define the system and human messages\n",
        "human_message = \"Explain time to me\"\n",
        "system_message = \"You are a 4th grade science teacher\""
      ],
      "metadata": {
        "id": "7FMKbwApZq1O"
      },
      "execution_count": 13,
      "outputs": []
    },
    {
      "cell_type": "code",
      "source": [
        "# Setup the input for the LLM\n",
        "messages = [\n",
        "    SystemMessage(content=system_message),\n",
        "    HumanMessage(content=human_message)\n",
        "]\n",
        "ai_message = chat_model.invoke(messages)\n",
        "display(Markdown(ai_message.content))"
      ],
      "metadata": {
        "colab": {
          "base_uri": "https://localhost:8080/",
          "height": 504
        },
        "id": "41Amd4HYbAI_",
        "outputId": "1d782d98-bc6e-4aa6-e319-6a004e05a6d9"
      },
      "execution_count": 16,
      "outputs": [
        {
          "output_type": "display_data",
          "data": {
            "text/plain": [
              "<IPython.core.display.Markdown object>"
            ],
            "text/markdown": "Alright, imagine time as a long, invisible river that keeps flowing from the past, through the present, and into the future, just like a river flows from mountains to the sea.\n\n1. **Past, Present, and Future**: Think of time as having three parts: \n   - The **past** is everything that has already happened, like yesterday or your last birthday.\n   - The **present** is what’s happening right now, like making lunch or playing with friends.\n   - The **future** is everything that is going to happen, like the next holiday or a field trip.\n\n2. **Clocks and Time**: We measure time with clocks, watches, and calendars. Clocks help us know when it’s time to wake up, go to school, or when homework time is over. They have two main parts: \n   - The **hour hand** moves slowly to show the hour, like from 2 to 3.\n   - The **minute hand** moves faster to show minutes, like from 5 minutes past the hour to 25 minutes past.\n\n3. **Time and Growth**: Time helps us see how things change and grow over time. If you plant a seed and watch it grow into a flower, time shows how long it takes. It helps us measure how tall you’ve gotten since last year or how much homework you can finish in an hour.\n\n4. **Time and Events**: Time helps organize events in our lives. We have schedules, like when school starts or when dinner is ready. This way, everyone knows when things will happen.\n\n5. **Time Zones**: The Earth is divided into time zones, which are like invisible lines that help us know the time in different places. That’s why when it’s morning in one part of the world, it might be night in another!\n\n6. **Seconds, Minutes, Hours**: Time is measured in smaller and larger units:\n   - A **second** is a really short amount of time.\n   - Sixty seconds make one **minute**.\n   - Sixty minutes make one **hour**.\n   - Twenty-four hours make one **day**.\n\nSo, time is like a helpful helper that organizes everything in our lives, making sure we know when to do what and how long we should do it for. Isn't that neat? 😊"
          },
          "metadata": {}
        }
      ]
    },
    {
      "cell_type": "code",
      "source": [
        "human_message = \"Explain time to me\"\n",
        "system_message = \"You are Physics PhD Professor teaching PhD students\"\n",
        "\n",
        "messages = [\n",
        "    SystemMessage(content=system_message),\n",
        "    HumanMessage(content=human_message)\n",
        "]\n",
        "ai_message = chat_model.invoke(messages)\n",
        "display(Markdown(ai_message.content))"
      ],
      "metadata": {
        "colab": {
          "base_uri": "https://localhost:8080/",
          "height": 1000
        },
        "id": "FoICMUbkbMwh",
        "outputId": "531c4feb-ed0c-45a4-d866-327294795043"
      },
      "execution_count": 17,
      "outputs": [
        {
          "output_type": "display_data",
          "data": {
            "text/plain": [
              "<IPython.core.display.Markdown object>"
            ],
            "text/markdown": "Time is a fundamental and complex concept that is recognized in both philosophical and scientific contexts. It involves the progression of events, the transition from the past through the present to the future, and is measured by the motion of a clock. In physics, time is intertwined with the concepts of space and matter, forming the fabric of spacetime in the theory of relativity. Let me break this down further for you:\n\n### Philosophical Perspective:\n\n1. **A Priori vs. A Posteriori:**\n   - **A Priori:** Time can be considered a priori, meaning it exists independently of experience. Philosophers like Immanuel Kant postulated that our understanding of time (and space) is innate, an a priori intuition that structures our experiences.\n   - **A Posteriori:** In contrast, time is also studied based on empirical observations—how we measure it and perceive its effects on physical processes.\n\n2. **Phenomenological Experience:**\n   - Philosophers like Martin Heidegger and Henri Bergson have explored time as a human experience. For Bergson, time (or \"duration\") is qualitative and subjective, experienced as a continuous flow rather than a succession of discrete moments.\n\n### Scientific Perspective:\n\n1. **Classical Mechanics:**\n   - In classical mechanics, time is an absolute quantity. Sir Isaac Newton viewed time as a uniformly flowing river, independent of the events taking place in the universe.\n\n2. **Relativity:**\n   - **Special Relativity:** Albert Einstein's theory of special relativity revolutionized the concept of time. It introduced the idea that time is relative and can vary depending on the observer's velocity. Time and space are intertwined into a single four-dimensional continuum called spacetime.\n   - **General Relativity:** Further, general relativity incorporates gravity into the framework, showing that time can be affected by gravitational fields. Massive objects cause spacetime to curve, and time runs slower in stronger gravitational fields—a phenomenon known as gravitational time dilation.\n\n3. **Quantum Mechanics:**\n   - Time plays a different role in quantum mechanics. While classical mechanics and relativity treat time as a backdrop against which events unfold, quantum mechanics challenges this by questioning the nature of time, especially in the context of unitary evolution and time's role in entanglement and decoherence.\n\n4. **Thermodynamics and the Arrow of Time:**\n   - The second law of thermodynamics introduces the concept of the \"arrow of time,\" which points in the direction of increasing entropy. This gives a thermodynamic perspective on time's unidirectional flow from past to future, aligned with our everyday experience of time.\n\n5. **Quantum Field Theory:**\n   - In quantum field theory, time is still treated as a parameter within the equations, though debates exist about its status, especially in relation to space, and how it emerges at macroscopic scales from quantum processes.\n\n### Time and Cosmology:\n\n- In cosmology, the study of the universe's origin, structure, history, and fate, time acquisition has been pivotal in understanding phenomena such as the Big Bang, cosmic inflation, and the possible futures of the universe.\n\n### Unresolved Issues:\n\n- **Problem of Time in Quantum Gravity:** In efforts to reconcile general relativity and quantum mechanics into a theory of quantum gravity (such as string theory or loop quantum gravity), time presents challenges. It is not clear how to define time at the quantum level of spacetime.\n\nIn conclusion, time remains one of the most intriguing and complex notions in both philosophy and physics. Its interpretation and significance continue to evolve as our understanding of the universe deepens, offering fertile ground for discussion and exploration in both theoretical and empirical research."
          },
          "metadata": {}
        }
      ]
    },
    {
      "cell_type": "markdown",
      "source": [
        "## Text Generation With Parameters"
      ],
      "metadata": {
        "id": "YAiFARm5b1kN"
      }
    },
    {
      "cell_type": "code",
      "source": [
        "# Define system and human message\n",
        "human_message = \"id:67njhtftybu. Your task is to explain time to me\"\n",
        "system_message = \"You are a 4th grade teacher teaching kids\"\n",
        "messages = [\n",
        "    SystemMessage(content = system_message),\n",
        "    HumanMessage(content = human_message)\n",
        "]"
      ],
      "metadata": {
        "id": "uq9gfconbuUo"
      },
      "execution_count": 18,
      "outputs": []
    },
    {
      "cell_type": "code",
      "source": [
        "llm = HuggingFaceEndpoint(\n",
        "    repo_id = repo_id,\n",
        "    task = \"generated_text\",\n",
        "    temperature = 1.2,\n",
        "    max_new_tokens=500,\n",
        "    cache = False)\n",
        "chat_model2 = ChatHuggingFace(llm = llm)\n",
        "ai_msg = chat_model2.invoke(messages)\n",
        "display(Markdown(ai_msg.content))"
      ],
      "metadata": {
        "colab": {
          "base_uri": "https://localhost:8080/",
          "height": 628
        },
        "id": "fMMWzDMicPba",
        "outputId": "47fe2f21-d0ab-4808-bd8c-9e3483384608"
      },
      "execution_count": 19,
      "outputs": [
        {
          "output_type": "display_data",
          "data": {
            "text/plain": [
              "<IPython.core.display.Markdown object>"
            ],
            "text/markdown": "Sure! Let's talk about time in a way that's easy to understand.\n\n### What is Time?\n\nTime is like an invisible clock that helps us to measure how long things last, such as how long it takes to finish a snack, how long a school day is, or how many birthdays you've had.\n\n### Parts of Time\n\n1. **Seconds**: These are the smallest parts of time we usually think about. You can think of them as tiny pieces that help us measure minutes.\n\n2. **Minutes**: These are made up of 60 seconds. Imagine counting slowly to 60, and you've counted one minute!\n\n3. **Hours**: An hour is made up of 60 minutes. Most days have 24 hours in them.\n\n4. **Days**: A day is one full cycle from when it gets bright outside in the morning to when it gets dark at night again.\n\n5. **Weeks**: A week has seven days in it, and it helps us plan things like school days and weekend activities.\n\n6. **Months**: A month is about four weeks long. There are 12 months in a year.\n\n7. **Years**: A year is how long it takes for the earth to go all the way around the sun, which is about 12 months.\n\n### Tools for Measuring Time\n\n- **Clocks**: Clocks help us see what time it is. They usually have hands that point to numbers, showing us hours and minutes.\n\n- **Calendars**: Calendars help us keep track of days, weeks, and months.\n\n### Keeping Track!\n\nWe use time to organize our days. We have bedtime schedules, school starting times, and even snack time because of time! It helps us know when to do important things like go to bed, wake up, do homework, or play.\n\n### Fun Fact!\n\nPeople in different places of the world might begin their day and end it at what seems like different \"times\" because they use something called \"time zones.\" And there are places keeping the time based on how many years ago or long ago certain events happened, like thousands or millions of years ago!\n\nIf you have more questions or want to know more about anything else, feel free to ask! 😊"
          },
          "metadata": {}
        }
      ]
    },
    {
      "cell_type": "markdown",
      "source": [
        "**Note: A temperature of 1.5 or more may result in giberish**"
      ],
      "metadata": {
        "id": "I69IirrFceOA"
      }
    },
    {
      "cell_type": "code",
      "source": [
        "llm = HuggingFaceEndpoint(\n",
        "    repo_id = repo_id,\n",
        "    task = \"generated_text\",\n",
        "    temperature = 2,\n",
        "    max_new_tokens=500,\n",
        "    cache = False)\n",
        "chat_model2 = ChatHuggingFace(llm = llm)\n",
        "ai_msg = chat_model2.invoke(messages)\n",
        "display(Markdown(ai_msg.content))"
      ],
      "metadata": {
        "colab": {
          "base_uri": "https://localhost:8080/",
          "height": 580
        },
        "id": "bYbaw6oscZGe",
        "outputId": "d7f4d1d4-c845-440c-aaeb-4cb62d763d2b"
      },
      "execution_count": 21,
      "outputs": [
        {
          "output_type": "display_data",
          "data": {
            "text/plain": [
              "<IPython.core.display.Markdown object>"
            ],
            "text/markdown": "Alright! Let's talk about time, which is a really cool way of keeping track of when things happen.\n\n**What is Time?**\nTime helps us know what order things happen in. Imagine a really long line at a party, where people can only enter one by one. Time is like that line, telling us which person goes first, second, third, and so on. It helps us know when to wake up, when to go to school, when to eat lunch, and when to play!\n\n**Different Parts of Time:**\n\n1. **Seconds, Minutes, and Hours:**\n   - *Seconds* are really tiny chunks of time. There are 60 seconds in a minute.\n   - *Minutes* are 60 seconds all grouped together. They help us time things like having a snack or listening to a short story.\n   - *Hours* are longer and have 60 minutes in them. A whole school day is made up of several hours!\n\n2. **Day and Night:**\n   - *Day* is when the sun is out; it’s usually a good time to do activities and play outside.\n   - *Night* is when the sun is not visible; it’s a time to sleep or read quietly.\n\n3. **Days in a Week:**\n   - There are 7 days in a week: Monday, Tuesday, Wednesday, Thursday, Friday, Saturday, and Sunday. Most weeks start with Monday and have a fun day called the weekend at the end (Saturday and Sunday).\n\n4. **Months and Years:**\n   - A year is made up of months. There are 12 months, and every month has a special name (like January, February, March, and so on).\n   - A year is the time it takes Earth to go around the Sun. It usually has 365 days, but sometimes an extra day called a leap day is added to February, making it 366 days every four years.\n\n5. **Clocks and Calendars:**\n   - Clocks have numbers from 1 to 12 to tell us what time it is. They show hours and minutes.\n   - Calendars help us see what day it is, what month, and what date. They might also have pictures or fun puzzles!\n\nRemember, time lets us plan and organize our days, so we can enjoy doing all the fun things we love, learn new things at school, and spend time with friends and family! 🌟\n\nIs there anything else you're curious about when it comes to time?"
          },
          "metadata": {}
        }
      ]
    },
    {
      "cell_type": "code",
      "source": [],
      "metadata": {
        "id": "PLCp007-cpSq"
      },
      "execution_count": null,
      "outputs": []
    }
  ]
}