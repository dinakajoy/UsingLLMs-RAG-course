{
  "nbformat": 4,
  "nbformat_minor": 0,
  "metadata": {
    "colab": {
      "provenance": [],
      "authorship_tag": "ABX9TyM84EMqphjKTRvgOedKnzbs",
      "include_colab_link": true
    },
    "kernelspec": {
      "name": "python3",
      "display_name": "Python 3"
    },
    "language_info": {
      "name": "python"
    }
  },
  "cells": [
    {
      "cell_type": "markdown",
      "metadata": {
        "id": "view-in-github",
        "colab_type": "text"
      },
      "source": [
        "<a href=\"https://colab.research.google.com/github/dinakajoy/UsingLLMs-RAG-course/blob/main/5_OpenAI_Project.ipynb\" target=\"_parent\"><img src=\"https://colab.research.google.com/assets/colab-badge.svg\" alt=\"Open In Colab\"/></a>"
      ]
    },
    {
      "cell_type": "markdown",
      "source": [
        "# A Menu Converter Project"
      ],
      "metadata": {
        "id": "ZgUqTKHU1FIE"
      }
    },
    {
      "cell_type": "markdown",
      "source": [
        "## Introduction\n",
        "\n",
        "In this script, we automate the process of converting PDF menu to images, and finally into a structured Excel spreadsheet using the OpenAI GPT model."
      ],
      "metadata": {
        "id": "DVHOqyD21RBy"
      }
    },
    {
      "cell_type": "code",
      "execution_count": 1,
      "metadata": {
        "colab": {
          "base_uri": "https://localhost:8080/"
        },
        "id": "zt6BVcST0aTk",
        "outputId": "ea7499ff-d7d7-4614-fa81-5602681a1fe3"
      },
      "outputs": [
        {
          "output_type": "stream",
          "name": "stdout",
          "text": [
            "Mounted at /content/drive\n"
          ]
        }
      ],
      "source": [
        "from google.colab import drive\n",
        "drive.mount('/content/drive')"
      ]
    },
    {
      "cell_type": "code",
      "source": [
        "directory = '/content/drive/MyDrive/RAG Course/Bitte'"
      ],
      "metadata": {
        "id": "-ouAwolx1Lpo"
      },
      "execution_count": 11,
      "outputs": []
    },
    {
      "cell_type": "markdown",
      "source": [
        "## PDF To Image Converter"
      ],
      "metadata": {
        "id": "4pW5NXQeqDuO"
      }
    },
    {
      "cell_type": "markdown",
      "source": [
        "### Install and Import Required Library"
      ],
      "metadata": {
        "id": "HRin7kV0k0dy"
      }
    },
    {
      "cell_type": "code",
      "source": [
        "!pip install PyMuPDF Pillow"
      ],
      "metadata": {
        "colab": {
          "base_uri": "https://localhost:8080/"
        },
        "id": "_jCTz6OKktpq",
        "outputId": "6ff3dfef-5ca4-4aaf-afa7-5ae8d093c793"
      },
      "execution_count": 3,
      "outputs": [
        {
          "output_type": "stream",
          "name": "stdout",
          "text": [
            "Collecting PyMuPDF\n",
            "  Downloading pymupdf-1.26.4-cp39-abi3-manylinux_2_28_x86_64.whl.metadata (3.4 kB)\n",
            "Requirement already satisfied: Pillow in /usr/local/lib/python3.12/dist-packages (11.3.0)\n",
            "Downloading pymupdf-1.26.4-cp39-abi3-manylinux_2_28_x86_64.whl (24.1 MB)\n",
            "\u001b[2K   \u001b[90m━━━━━━━━━━━━━━━━━━━━━━━━━━━━━━━━━━━━━━━━\u001b[0m \u001b[32m24.1/24.1 MB\u001b[0m \u001b[31m78.4 MB/s\u001b[0m eta \u001b[36m0:00:00\u001b[0m\n",
            "\u001b[?25hInstalling collected packages: PyMuPDF\n",
            "Successfully installed PyMuPDF-1.26.4\n"
          ]
        }
      ]
    },
    {
      "cell_type": "markdown",
      "source": [
        "* **PyMuPDF**: A Python binding for MuPDF, which allows for PDF and image file processing.\n",
        "* **Pillow**: A Python Imaging Library that adds image processing capabilities to your Python interpreter."
      ],
      "metadata": {
        "id": "buONA3A2lFL0"
      }
    },
    {
      "cell_type": "code",
      "source": [
        "import fitz # PyMuPDF\n",
        "from PIL import Image # Pillow\n",
        "import os"
      ],
      "metadata": {
        "id": "teRE8kcOlCXr"
      },
      "execution_count": 14,
      "outputs": []
    },
    {
      "cell_type": "markdown",
      "source": [
        "* `fitz` provides functions to read and manipulate PDF files.\n",
        "* `Image` from `PIL` allows us to create and modify images.\n",
        "* `os` helps in interacting with the operating system, such as reading files and directories."
      ],
      "metadata": {
        "id": "9V3Wygo_lahJ"
      }
    },
    {
      "cell_type": "markdown",
      "source": [
        "### Define The PDF To JPG Conversion Function\n",
        "\n",
        "We define a function pdf_to_jpg that converts all PDF files in the specified directory to JPG images."
      ],
      "metadata": {
        "id": "sbAR1fNOldCl"
      }
    },
    {
      "cell_type": "code",
      "source": [
        "def pdf_to_jpg(directory):\n",
        "  # Iterate over all files in the specified directory\n",
        "  for filename in os.listdir(directory):\n",
        "    # Check if the file is a PDF\n",
        "    if filename.endswith('.pdf'):\n",
        "      # Construct the full file path\n",
        "      pdf_path = os.path.join(directory, filename)\n",
        "      # Open the PDF file\n",
        "      pdf_document = fitz.open(pdf_path)\n",
        "      # Iterate over each page in the PDF\n",
        "      for page_number in range(len(pdf_document)):\n",
        "        # Get the page by its index\n",
        "        page = pdf_document.load_page(page_number)\n",
        "        # Render the page as apixmap (an in-memory image)\n",
        "        pixmap = page.get_pixmap()\n",
        "\n",
        "        # Construct the output image file path\n",
        "        image_path = os.path.join(\n",
        "            directory,\n",
        "            f\"{os.path.splitext(filename)[0]}_page{page_number+1}.jpg\"\n",
        "        )\n",
        "        # Create the pixmap as a JPG image\n",
        "        img = Image.frombytes(\"RGB\", [pixmap.width, pixmap.height], pixmap.samples)\n",
        "        # Save the image to the specified path\n",
        "        img.save(image_path, \"JPEG\")\n",
        "\n",
        "  # Print a message when all conversions are done\n",
        "  print(\"All PDF files have been converted\")"
      ],
      "metadata": {
        "id": "6iSACMfVlX0N"
      },
      "execution_count": 15,
      "outputs": []
    },
    {
      "cell_type": "markdown",
      "source": [
        "In this function:\n",
        "\n",
        "* We loop through all files in the directory and select those that end with `.pdf`.\n",
        "* Each PDF is opened using `fitz.open()`.\n",
        "* We iterate through each page of the PDF.\n",
        "* Each page is rendered to a pixmap using `page.get_pixmap()`.\n",
        "* The pixmap is converted to an image using `Image.frombytes()`.\n",
        "* The image is saved as a JPG file in the same directory."
      ],
      "metadata": {
        "id": "I14pWeJWpzNu"
      }
    },
    {
      "cell_type": "code",
      "source": [
        "# Apply the function\n",
        "pdf_to_jpg(directory)"
      ],
      "metadata": {
        "colab": {
          "base_uri": "https://localhost:8080/"
        },
        "id": "A_8viHBBuW4M",
        "outputId": "dfa5cf71-a4db-4ddb-b51c-cf068aad59ab"
      },
      "execution_count": 17,
      "outputs": [
        {
          "output_type": "stream",
          "name": "stdout",
          "text": [
            "All PDF files have been converted\n"
          ]
        }
      ]
    },
    {
      "cell_type": "markdown",
      "source": [
        "## Image To Excel Converter"
      ],
      "metadata": {
        "id": "0NgRrz8dqSMP"
      }
    },
    {
      "cell_type": "markdown",
      "source": [
        "### Install and Import Required Library"
      ],
      "metadata": {
        "id": "liFo3XL-q10G"
      }
    },
    {
      "cell_type": "code",
      "source": [
        "from openai import OpenAI\n",
        "import os\n",
        "import base64\n",
        "from IPython.display import Image, display, Markdown\n",
        "import pandas as pd"
      ],
      "metadata": {
        "id": "iaKrji09oIbU"
      },
      "execution_count": 7,
      "outputs": []
    },
    {
      "cell_type": "code",
      "source": [
        "# Retrieve the OpenAI API key from Collab's user data\n",
        "from google.colab import userdata\n",
        "open_ai_key = userdata.get('openai_api')"
      ],
      "metadata": {
        "id": "UPJQZ-L0riQH"
      },
      "execution_count": 9,
      "outputs": []
    },
    {
      "cell_type": "code",
      "source": [
        "# Setup OpenAI client and specify the model to use\n",
        "MODEL = \"gpt-4o\"\n",
        "client = OpenAI(api_key=open_ai_key)"
      ],
      "metadata": {
        "id": "oIwGBGScrNih"
      },
      "execution_count": 10,
      "outputs": []
    },
    {
      "cell_type": "markdown",
      "source": [
        "### Deine The System Prompt\n",
        "\n",
        "We define a detailed system prompt that instructs the GPT model on how to convert the menu images into a structured Excel format.\n"
      ],
      "metadata": {
        "id": "UadmNuxBsDIy"
      }
    },
    {
      "cell_type": "code",
      "source": [
        "# Define the system prompt with detailed instructions\n",
        "system_prompt = \"\"\"\n",
        "Convert the menu image to a structured excel sheet format following the provided template and instructions.\n",
        "This assistant converts restaurant or cafe menu data into a structured Excel sheet that adheres to a specific template.\n",
        "The template includes categories, subcategories, item names, prices, descriptions, and more, ensuring data consistency.\n",
        "This assistant helps users fill out each row correctly, following the detailed instructions provided.\n",
        "\n",
        "Overview:\n",
        "- Each row in the Excel spreadsheet represents a unique item, categorized under a category or subcategory.\n",
        "- Category and subcategory names are repeated for items within the same subcategory.\n",
        "- Certain columns are left blank when not applicable, such as subcategory details for items directly under a category.\n",
        "- Item details, including names, prices, and descriptions, must be unique for each entry.\n",
        "- Uploaded menu content will be appended to the existing menu without deleting any current entries.\n",
        "\n",
        "Columns Guide:\n",
        "\n",
        "Column Name                    | Description                               | Accepted Values           | Example\n",
        "-------------------------------|-------------------------------------------|---------------------------|-----------------------\n",
        "CategoryTitlePt (Column A)      | Category names in Portuguese              | Text, 256 characters max  | Bebidas\n",
        "CategoryTitleEn (Column B) (Optional) | English translations of category titles | Text, 256 characters max  | Beverages\n",
        "SubcategoryTitlePt (Column C) (Optional) | Subcategory titles in Portuguese | Text, 256 characters max or blank | Sucos\n",
        "SubcategoryTitleEn (Column D) (Optional) | English translations of subcategory titles | Text, 256 characters max or blank | Juices\n",
        "ItemNamePt (Column E)           | Item names in Portuguese                  | Text, 256 characters max  | Água Mineral\n",
        "ItemNameEn (Column F) (Optional) | English translations of item names | Text, 256 characters max or blank | Mineral Water\n",
        "ItemPrice (Column G)          | Price of each item without currency symbol  | Text                      | 2.50 or 2,50\n",
        "Calories (Column H) (Optional) | Caloric content of each item              | Numeric                   | 150\n",
        "PortionSize (Column I)        | Portion size for each item in units        | Text                      | 500ml, 1, 2-3\n",
        "Availability (Column J) (Optional) | Current availability of the item     | Numeric: 1 for Yes, 0 for No | 1\n",
        "ItemDescriptionPt (Column K) (Optional) | Detailed description in Portuguese | Text, 500 characters max  | Contains essential minerals\n",
        "ItemDescriptionEn (Column L) (Optional) | Detailed description in English | Text, 500 characters max  | Contains essential minerals\n",
        "\n",
        "Notes:\n",
        "- Ensure all data entered follows the specified formats to maintain database integrity.\n",
        "- Review the data for accuracy and consistency before submitting the Excel sheet.\n",
        "\"\"\"\n"
      ],
      "metadata": {
        "id": "igyTBuisr6Ji"
      },
      "execution_count": 18,
      "outputs": []
    },
    {
      "cell_type": "code",
      "source": [
        "# Change the current working directory to the image directory\n",
        "os.chdir(directory)\n",
        "IMAGE_DIR = directory\n",
        "\n",
        "def encode_image(image_path):\n",
        "  # Open the image file in binary mode and encode it in Base64\n",
        "  with open(image_path, \"rb\") as image_file:\n",
        "    return base64.b64encode(image_file.read()).decode('utf-8')\n",
        "\n",
        "# Process images in the directory\n",
        "image_files = sorted([f for f in os.listdir(IMAGE_DIR) if f.lower().endswith(('.jpg', '.png', '.jpeg'))])\n",
        "image_files\n",
        ""
      ],
      "metadata": {
        "colab": {
          "base_uri": "https://localhost:8080/"
        },
        "id": "JwemzTgJvzUY",
        "outputId": "fab5c7e5-95b5-4fe0-f1be-102bf256c097"
      },
      "execution_count": 22,
      "outputs": [
        {
          "output_type": "execute_result",
          "data": {
            "text/plain": [
              "['Menu_page1.jpg',\n",
              " 'Menu_page2.jpg',\n",
              " 'Menu_page3.jpg',\n",
              " 'Menu_page4.jpg',\n",
              " 'Menu_page5.jpg',\n",
              " 'Menu_page6.jpg',\n",
              " 'Menu_page7.jpg']"
            ]
          },
          "metadata": {},
          "execution_count": 22
        }
      ]
    },
    {
      "cell_type": "markdown",
      "source": [
        "Encoding images in Base64 allows us to include image data directly in our API requests without relying on external URLs.\n",
        "\n",
        "This code scans the directory for files ending with `.png`, `.jpg`, or `.jpeg`, ensuring we only process image files relevant to our task."
      ],
      "metadata": {
        "id": "iOZHPHQU2Kjd"
      }
    },
    {
      "cell_type": "markdown",
      "source": [
        "### Define The Image To Excel Conversion Function\n",
        "\n",
        "We prompt the user to input a name for the new Excel file where the extracted data will be saved.\n",
        "\n",
        "We loop through each image file, encode it, send it to the OpenAI API for processing, and parse the response to populate our DataFrame."
      ],
      "metadata": {
        "id": "WfoZH2XH2W2t"
      }
    },
    {
      "cell_type": "code",
      "source": [
        "# Prompt the user for the excel file name\n",
        "new_excel_file_name = input(\"Enter the name for the new Excel file to be created (without extension): \")\n",
        "EXCEL_PATH = os.path.join(directory, f\"{new_excel_file_name}.xlsx\")\n",
        "\n",
        "# Create the Pandas DataFrame\n",
        "df = pd.DataFrame(columns=['CategoryTitlePt', 'CategoryTitleEn', 'SubcategoryTitlePt', 'SubcategoryTitleEn',\n",
        "                           'ItemNamePt', 'ItemNameEn', 'ItemPrice', 'Calories', 'PortionSize', 'Availability',\n",
        "                           'ItemDescriptionPt', 'ItemDescriptionEn'])\n",
        "\n",
        "for image in image_files:\n",
        "  # Retrieve and encode the image\n",
        "  image_path = os.path.join(IMAGE_DIR, image)\n",
        "  image_data = encode_image(image_path)\n",
        "\n",
        "  # Adding a flag for the headers\n",
        "  headers_added = False\n",
        "\n",
        "  # Use GPT-4o to analyze and convert the image\n",
        "  response = client.chat.completions.create(\n",
        "      model=MODEL,\n",
        "      messages=[\n",
        "          {\"role\": \"system\", \"content\": system_prompt},\n",
        "          {\"role\": \"user\", \"content\": [\n",
        "              {\"type\": \"text\", \"text\": \"Convert this menu image to a structured Excel Sheet Format.\"},\n",
        "              {\"type\": \"image_url\", \"image_url\": {\"url\": f\"data:image/jpeg;base64,{image_data}\"}}\n",
        "          ]}\n",
        "      ],\n",
        "      temperature=0\n",
        "  )\n",
        "\n",
        "  for row in response.choices[0].message.content.split('\\n'):\n",
        "    # Ensure the data is a row and not a header\n",
        "    if row.startswith('|') and not row.startswith('|-'):\n",
        "      columns = [col.strip() for col in row.split('|')[1:-1]]\n",
        "      if len(columns) == len(df.columns):\n",
        "        if 'CategoryTitlePt' in columns:\n",
        "            headers_added = True\n",
        "            continue\n",
        "        # Skip the row\n",
        "        if headers_added and 'CategoryTitlePt' in columns:\n",
        "          continue\n",
        "        new_row = pd.Series(columns, index=df.columns)\n",
        "        df = pd.concat([df, pd.DataFrame([new_row])], ignore_index=True)\n",
        "      else:\n",
        "        print(f\"Skipping row {row}\")\n",
        "\n",
        "df.to_excel(EXCEL_PATH, index=False)\n",
        "print(f\"Excel file saved at: {EXCEL_PATH}\")"
      ],
      "metadata": {
        "colab": {
          "base_uri": "https://localhost:8080/"
        },
        "id": "TUbJ7gy6zwZa",
        "outputId": "44f5d494-9910-4600-f4a5-6b7accb2c11d"
      },
      "execution_count": 23,
      "outputs": [
        {
          "output_type": "stream",
          "name": "stdout",
          "text": [
            "Enter the name for the new Excel file to be created (without extension): menu_as_excel\n",
            "Excel file saved at: /content/drive/MyDrive/RAG Course/Bitte/menu_as_excel.xlsx\n"
          ]
        }
      ]
    },
    {
      "cell_type": "markdown",
      "source": [
        "In this loop:\n",
        "\n",
        "* **Encoding the Image**: Each image is encoded in Base64 format using the `encode_image` function.\n",
        "* **API Request**: We send the encoded image along with the prompt to the OpenAI API using `client.chat.completions.create`.\n",
        "* **Temperature Parameter**: We set `temperature=0` to make the output deterministic, ensuring consistent formatting.\n",
        "* **Response Parsing**: The API response is expected to be in a Markdown table format. We parse each line, checking if it's a data row.\n",
        "* **Data Extraction**: We extract the columns, check if they match the expected number of DataFrame columns, and append them to the DataFrame.\n",
        "* **Error Handling**: If a row doesn't match the expected format, we print a message and skip it.\n"
      ],
      "metadata": {
        "id": "9yobl5V7AD0F"
      }
    },
    {
      "cell_type": "code",
      "source": [
        "df"
      ],
      "metadata": {
        "colab": {
          "base_uri": "https://localhost:8080/",
          "height": 600
        },
        "id": "3lX1Qd7Y_8hm",
        "outputId": "fe731b87-f093-4f58-b48f-9dd5187bb25b"
      },
      "execution_count": 24,
      "outputs": [
        {
          "output_type": "execute_result",
          "data": {
            "text/plain": [
              "         CategoryTitlePt        CategoryTitleEn SubcategoryTitlePt  \\\n",
              "0               ENTRADAS               STARTERS                      \n",
              "1               ENTRADAS               STARTERS                      \n",
              "2               ENTRADAS               STARTERS                      \n",
              "3         PARA PARTILHAR               TO SHARE                      \n",
              "4         PARA PARTILHAR               TO SHARE                      \n",
              "..                   ...                    ...                ...   \n",
              "74  Digestivos & Licores  Digestives & Liqueurs                      \n",
              "75  Digestivos & Licores  Digestives & Liqueurs                      \n",
              "76  Digestivos & Licores  Digestives & Liqueurs                      \n",
              "77  Digestivos & Licores  Digestives & Liqueurs                      \n",
              "78  Digestivos & Licores  Digestives & Liqueurs                      \n",
              "\n",
              "   SubcategoryTitleEn          ItemNamePt           ItemNameEn ItemPrice  \\\n",
              "0                               Azeitonas               Olives      1.60   \n",
              "1                            Cesto de Pão         Bread Basket      1.80   \n",
              "2                        Creme de Legumes  Cream of Vegetables      3.00   \n",
              "3                      Nachos & Guacamole   Nachos & Guacamole      7.50   \n",
              "4                            REGATTA Tuna       Marinated Tuna     12.90   \n",
              "..                ...                 ...                  ...       ...   \n",
              "74                       Moscatel Favaios     Moscatel Favaios      2.00   \n",
              "75                           Licor Beirão         Licor Beirão      3.00   \n",
              "76                         Vinho do Porto            Port Wine      3.00   \n",
              "77                                 Whisky               Whisky      5.00   \n",
              "78                                   Shot                 Shot      2.00   \n",
              "\n",
              "   Calories PortionSize Availability     ItemDescriptionPt ItemDescriptionEn  \n",
              "0                                  1                                          \n",
              "1                                  1                                          \n",
              "2                                  1                                          \n",
              "3                                  1                                          \n",
              "4                                  1  Atum Fresco Marinado    Marinated Tuna  \n",
              "..      ...         ...          ...                   ...               ...  \n",
              "74                                 1                                          \n",
              "75                                 1                                          \n",
              "76                                 1                                          \n",
              "77                                 1                                          \n",
              "78                                 1                                          \n",
              "\n",
              "[79 rows x 12 columns]"
            ],
            "text/html": [
              "\n",
              "  <div id=\"df-c3e31687-0b02-49d0-adae-39aa82ee6fb5\" class=\"colab-df-container\">\n",
              "    <div>\n",
              "<style scoped>\n",
              "    .dataframe tbody tr th:only-of-type {\n",
              "        vertical-align: middle;\n",
              "    }\n",
              "\n",
              "    .dataframe tbody tr th {\n",
              "        vertical-align: top;\n",
              "    }\n",
              "\n",
              "    .dataframe thead th {\n",
              "        text-align: right;\n",
              "    }\n",
              "</style>\n",
              "<table border=\"1\" class=\"dataframe\">\n",
              "  <thead>\n",
              "    <tr style=\"text-align: right;\">\n",
              "      <th></th>\n",
              "      <th>CategoryTitlePt</th>\n",
              "      <th>CategoryTitleEn</th>\n",
              "      <th>SubcategoryTitlePt</th>\n",
              "      <th>SubcategoryTitleEn</th>\n",
              "      <th>ItemNamePt</th>\n",
              "      <th>ItemNameEn</th>\n",
              "      <th>ItemPrice</th>\n",
              "      <th>Calories</th>\n",
              "      <th>PortionSize</th>\n",
              "      <th>Availability</th>\n",
              "      <th>ItemDescriptionPt</th>\n",
              "      <th>ItemDescriptionEn</th>\n",
              "    </tr>\n",
              "  </thead>\n",
              "  <tbody>\n",
              "    <tr>\n",
              "      <th>0</th>\n",
              "      <td>ENTRADAS</td>\n",
              "      <td>STARTERS</td>\n",
              "      <td></td>\n",
              "      <td></td>\n",
              "      <td>Azeitonas</td>\n",
              "      <td>Olives</td>\n",
              "      <td>1.60</td>\n",
              "      <td></td>\n",
              "      <td></td>\n",
              "      <td>1</td>\n",
              "      <td></td>\n",
              "      <td></td>\n",
              "    </tr>\n",
              "    <tr>\n",
              "      <th>1</th>\n",
              "      <td>ENTRADAS</td>\n",
              "      <td>STARTERS</td>\n",
              "      <td></td>\n",
              "      <td></td>\n",
              "      <td>Cesto de Pão</td>\n",
              "      <td>Bread Basket</td>\n",
              "      <td>1.80</td>\n",
              "      <td></td>\n",
              "      <td></td>\n",
              "      <td>1</td>\n",
              "      <td></td>\n",
              "      <td></td>\n",
              "    </tr>\n",
              "    <tr>\n",
              "      <th>2</th>\n",
              "      <td>ENTRADAS</td>\n",
              "      <td>STARTERS</td>\n",
              "      <td></td>\n",
              "      <td></td>\n",
              "      <td>Creme de Legumes</td>\n",
              "      <td>Cream of Vegetables</td>\n",
              "      <td>3.00</td>\n",
              "      <td></td>\n",
              "      <td></td>\n",
              "      <td>1</td>\n",
              "      <td></td>\n",
              "      <td></td>\n",
              "    </tr>\n",
              "    <tr>\n",
              "      <th>3</th>\n",
              "      <td>PARA PARTILHAR</td>\n",
              "      <td>TO SHARE</td>\n",
              "      <td></td>\n",
              "      <td></td>\n",
              "      <td>Nachos &amp; Guacamole</td>\n",
              "      <td>Nachos &amp; Guacamole</td>\n",
              "      <td>7.50</td>\n",
              "      <td></td>\n",
              "      <td></td>\n",
              "      <td>1</td>\n",
              "      <td></td>\n",
              "      <td></td>\n",
              "    </tr>\n",
              "    <tr>\n",
              "      <th>4</th>\n",
              "      <td>PARA PARTILHAR</td>\n",
              "      <td>TO SHARE</td>\n",
              "      <td></td>\n",
              "      <td></td>\n",
              "      <td>REGATTA Tuna</td>\n",
              "      <td>Marinated Tuna</td>\n",
              "      <td>12.90</td>\n",
              "      <td></td>\n",
              "      <td></td>\n",
              "      <td>1</td>\n",
              "      <td>Atum Fresco Marinado</td>\n",
              "      <td>Marinated Tuna</td>\n",
              "    </tr>\n",
              "    <tr>\n",
              "      <th>...</th>\n",
              "      <td>...</td>\n",
              "      <td>...</td>\n",
              "      <td>...</td>\n",
              "      <td>...</td>\n",
              "      <td>...</td>\n",
              "      <td>...</td>\n",
              "      <td>...</td>\n",
              "      <td>...</td>\n",
              "      <td>...</td>\n",
              "      <td>...</td>\n",
              "      <td>...</td>\n",
              "      <td>...</td>\n",
              "    </tr>\n",
              "    <tr>\n",
              "      <th>74</th>\n",
              "      <td>Digestivos &amp; Licores</td>\n",
              "      <td>Digestives &amp; Liqueurs</td>\n",
              "      <td></td>\n",
              "      <td></td>\n",
              "      <td>Moscatel Favaios</td>\n",
              "      <td>Moscatel Favaios</td>\n",
              "      <td>2.00</td>\n",
              "      <td></td>\n",
              "      <td></td>\n",
              "      <td>1</td>\n",
              "      <td></td>\n",
              "      <td></td>\n",
              "    </tr>\n",
              "    <tr>\n",
              "      <th>75</th>\n",
              "      <td>Digestivos &amp; Licores</td>\n",
              "      <td>Digestives &amp; Liqueurs</td>\n",
              "      <td></td>\n",
              "      <td></td>\n",
              "      <td>Licor Beirão</td>\n",
              "      <td>Licor Beirão</td>\n",
              "      <td>3.00</td>\n",
              "      <td></td>\n",
              "      <td></td>\n",
              "      <td>1</td>\n",
              "      <td></td>\n",
              "      <td></td>\n",
              "    </tr>\n",
              "    <tr>\n",
              "      <th>76</th>\n",
              "      <td>Digestivos &amp; Licores</td>\n",
              "      <td>Digestives &amp; Liqueurs</td>\n",
              "      <td></td>\n",
              "      <td></td>\n",
              "      <td>Vinho do Porto</td>\n",
              "      <td>Port Wine</td>\n",
              "      <td>3.00</td>\n",
              "      <td></td>\n",
              "      <td></td>\n",
              "      <td>1</td>\n",
              "      <td></td>\n",
              "      <td></td>\n",
              "    </tr>\n",
              "    <tr>\n",
              "      <th>77</th>\n",
              "      <td>Digestivos &amp; Licores</td>\n",
              "      <td>Digestives &amp; Liqueurs</td>\n",
              "      <td></td>\n",
              "      <td></td>\n",
              "      <td>Whisky</td>\n",
              "      <td>Whisky</td>\n",
              "      <td>5.00</td>\n",
              "      <td></td>\n",
              "      <td></td>\n",
              "      <td>1</td>\n",
              "      <td></td>\n",
              "      <td></td>\n",
              "    </tr>\n",
              "    <tr>\n",
              "      <th>78</th>\n",
              "      <td>Digestivos &amp; Licores</td>\n",
              "      <td>Digestives &amp; Liqueurs</td>\n",
              "      <td></td>\n",
              "      <td></td>\n",
              "      <td>Shot</td>\n",
              "      <td>Shot</td>\n",
              "      <td>2.00</td>\n",
              "      <td></td>\n",
              "      <td></td>\n",
              "      <td>1</td>\n",
              "      <td></td>\n",
              "      <td></td>\n",
              "    </tr>\n",
              "  </tbody>\n",
              "</table>\n",
              "<p>79 rows × 12 columns</p>\n",
              "</div>\n",
              "    <div class=\"colab-df-buttons\">\n",
              "\n",
              "  <div class=\"colab-df-container\">\n",
              "    <button class=\"colab-df-convert\" onclick=\"convertToInteractive('df-c3e31687-0b02-49d0-adae-39aa82ee6fb5')\"\n",
              "            title=\"Convert this dataframe to an interactive table.\"\n",
              "            style=\"display:none;\">\n",
              "\n",
              "  <svg xmlns=\"http://www.w3.org/2000/svg\" height=\"24px\" viewBox=\"0 -960 960 960\">\n",
              "    <path d=\"M120-120v-720h720v720H120Zm60-500h600v-160H180v160Zm220 220h160v-160H400v160Zm0 220h160v-160H400v160ZM180-400h160v-160H180v160Zm440 0h160v-160H620v160ZM180-180h160v-160H180v160Zm440 0h160v-160H620v160Z\"/>\n",
              "  </svg>\n",
              "    </button>\n",
              "\n",
              "  <style>\n",
              "    .colab-df-container {\n",
              "      display:flex;\n",
              "      gap: 12px;\n",
              "    }\n",
              "\n",
              "    .colab-df-convert {\n",
              "      background-color: #E8F0FE;\n",
              "      border: none;\n",
              "      border-radius: 50%;\n",
              "      cursor: pointer;\n",
              "      display: none;\n",
              "      fill: #1967D2;\n",
              "      height: 32px;\n",
              "      padding: 0 0 0 0;\n",
              "      width: 32px;\n",
              "    }\n",
              "\n",
              "    .colab-df-convert:hover {\n",
              "      background-color: #E2EBFA;\n",
              "      box-shadow: 0px 1px 2px rgba(60, 64, 67, 0.3), 0px 1px 3px 1px rgba(60, 64, 67, 0.15);\n",
              "      fill: #174EA6;\n",
              "    }\n",
              "\n",
              "    .colab-df-buttons div {\n",
              "      margin-bottom: 4px;\n",
              "    }\n",
              "\n",
              "    [theme=dark] .colab-df-convert {\n",
              "      background-color: #3B4455;\n",
              "      fill: #D2E3FC;\n",
              "    }\n",
              "\n",
              "    [theme=dark] .colab-df-convert:hover {\n",
              "      background-color: #434B5C;\n",
              "      box-shadow: 0px 1px 3px 1px rgba(0, 0, 0, 0.15);\n",
              "      filter: drop-shadow(0px 1px 2px rgba(0, 0, 0, 0.3));\n",
              "      fill: #FFFFFF;\n",
              "    }\n",
              "  </style>\n",
              "\n",
              "    <script>\n",
              "      const buttonEl =\n",
              "        document.querySelector('#df-c3e31687-0b02-49d0-adae-39aa82ee6fb5 button.colab-df-convert');\n",
              "      buttonEl.style.display =\n",
              "        google.colab.kernel.accessAllowed ? 'block' : 'none';\n",
              "\n",
              "      async function convertToInteractive(key) {\n",
              "        const element = document.querySelector('#df-c3e31687-0b02-49d0-adae-39aa82ee6fb5');\n",
              "        const dataTable =\n",
              "          await google.colab.kernel.invokeFunction('convertToInteractive',\n",
              "                                                    [key], {});\n",
              "        if (!dataTable) return;\n",
              "\n",
              "        const docLinkHtml = 'Like what you see? Visit the ' +\n",
              "          '<a target=\"_blank\" href=https://colab.research.google.com/notebooks/data_table.ipynb>data table notebook</a>'\n",
              "          + ' to learn more about interactive tables.';\n",
              "        element.innerHTML = '';\n",
              "        dataTable['output_type'] = 'display_data';\n",
              "        await google.colab.output.renderOutput(dataTable, element);\n",
              "        const docLink = document.createElement('div');\n",
              "        docLink.innerHTML = docLinkHtml;\n",
              "        element.appendChild(docLink);\n",
              "      }\n",
              "    </script>\n",
              "  </div>\n",
              "\n",
              "\n",
              "    <div id=\"df-d0b5ea3b-e9ff-41b4-bf1a-4422a96700d3\">\n",
              "      <button class=\"colab-df-quickchart\" onclick=\"quickchart('df-d0b5ea3b-e9ff-41b4-bf1a-4422a96700d3')\"\n",
              "                title=\"Suggest charts\"\n",
              "                style=\"display:none;\">\n",
              "\n",
              "<svg xmlns=\"http://www.w3.org/2000/svg\" height=\"24px\"viewBox=\"0 0 24 24\"\n",
              "     width=\"24px\">\n",
              "    <g>\n",
              "        <path d=\"M19 3H5c-1.1 0-2 .9-2 2v14c0 1.1.9 2 2 2h14c1.1 0 2-.9 2-2V5c0-1.1-.9-2-2-2zM9 17H7v-7h2v7zm4 0h-2V7h2v10zm4 0h-2v-4h2v4z\"/>\n",
              "    </g>\n",
              "</svg>\n",
              "      </button>\n",
              "\n",
              "<style>\n",
              "  .colab-df-quickchart {\n",
              "      --bg-color: #E8F0FE;\n",
              "      --fill-color: #1967D2;\n",
              "      --hover-bg-color: #E2EBFA;\n",
              "      --hover-fill-color: #174EA6;\n",
              "      --disabled-fill-color: #AAA;\n",
              "      --disabled-bg-color: #DDD;\n",
              "  }\n",
              "\n",
              "  [theme=dark] .colab-df-quickchart {\n",
              "      --bg-color: #3B4455;\n",
              "      --fill-color: #D2E3FC;\n",
              "      --hover-bg-color: #434B5C;\n",
              "      --hover-fill-color: #FFFFFF;\n",
              "      --disabled-bg-color: #3B4455;\n",
              "      --disabled-fill-color: #666;\n",
              "  }\n",
              "\n",
              "  .colab-df-quickchart {\n",
              "    background-color: var(--bg-color);\n",
              "    border: none;\n",
              "    border-radius: 50%;\n",
              "    cursor: pointer;\n",
              "    display: none;\n",
              "    fill: var(--fill-color);\n",
              "    height: 32px;\n",
              "    padding: 0;\n",
              "    width: 32px;\n",
              "  }\n",
              "\n",
              "  .colab-df-quickchart:hover {\n",
              "    background-color: var(--hover-bg-color);\n",
              "    box-shadow: 0 1px 2px rgba(60, 64, 67, 0.3), 0 1px 3px 1px rgba(60, 64, 67, 0.15);\n",
              "    fill: var(--button-hover-fill-color);\n",
              "  }\n",
              "\n",
              "  .colab-df-quickchart-complete:disabled,\n",
              "  .colab-df-quickchart-complete:disabled:hover {\n",
              "    background-color: var(--disabled-bg-color);\n",
              "    fill: var(--disabled-fill-color);\n",
              "    box-shadow: none;\n",
              "  }\n",
              "\n",
              "  .colab-df-spinner {\n",
              "    border: 2px solid var(--fill-color);\n",
              "    border-color: transparent;\n",
              "    border-bottom-color: var(--fill-color);\n",
              "    animation:\n",
              "      spin 1s steps(1) infinite;\n",
              "  }\n",
              "\n",
              "  @keyframes spin {\n",
              "    0% {\n",
              "      border-color: transparent;\n",
              "      border-bottom-color: var(--fill-color);\n",
              "      border-left-color: var(--fill-color);\n",
              "    }\n",
              "    20% {\n",
              "      border-color: transparent;\n",
              "      border-left-color: var(--fill-color);\n",
              "      border-top-color: var(--fill-color);\n",
              "    }\n",
              "    30% {\n",
              "      border-color: transparent;\n",
              "      border-left-color: var(--fill-color);\n",
              "      border-top-color: var(--fill-color);\n",
              "      border-right-color: var(--fill-color);\n",
              "    }\n",
              "    40% {\n",
              "      border-color: transparent;\n",
              "      border-right-color: var(--fill-color);\n",
              "      border-top-color: var(--fill-color);\n",
              "    }\n",
              "    60% {\n",
              "      border-color: transparent;\n",
              "      border-right-color: var(--fill-color);\n",
              "    }\n",
              "    80% {\n",
              "      border-color: transparent;\n",
              "      border-right-color: var(--fill-color);\n",
              "      border-bottom-color: var(--fill-color);\n",
              "    }\n",
              "    90% {\n",
              "      border-color: transparent;\n",
              "      border-bottom-color: var(--fill-color);\n",
              "    }\n",
              "  }\n",
              "</style>\n",
              "\n",
              "      <script>\n",
              "        async function quickchart(key) {\n",
              "          const quickchartButtonEl =\n",
              "            document.querySelector('#' + key + ' button');\n",
              "          quickchartButtonEl.disabled = true;  // To prevent multiple clicks.\n",
              "          quickchartButtonEl.classList.add('colab-df-spinner');\n",
              "          try {\n",
              "            const charts = await google.colab.kernel.invokeFunction(\n",
              "                'suggestCharts', [key], {});\n",
              "          } catch (error) {\n",
              "            console.error('Error during call to suggestCharts:', error);\n",
              "          }\n",
              "          quickchartButtonEl.classList.remove('colab-df-spinner');\n",
              "          quickchartButtonEl.classList.add('colab-df-quickchart-complete');\n",
              "        }\n",
              "        (() => {\n",
              "          let quickchartButtonEl =\n",
              "            document.querySelector('#df-d0b5ea3b-e9ff-41b4-bf1a-4422a96700d3 button');\n",
              "          quickchartButtonEl.style.display =\n",
              "            google.colab.kernel.accessAllowed ? 'block' : 'none';\n",
              "        })();\n",
              "      </script>\n",
              "    </div>\n",
              "\n",
              "  <div id=\"id_f7c42954-e7e5-4e02-82ea-3f3016f06b87\">\n",
              "    <style>\n",
              "      .colab-df-generate {\n",
              "        background-color: #E8F0FE;\n",
              "        border: none;\n",
              "        border-radius: 50%;\n",
              "        cursor: pointer;\n",
              "        display: none;\n",
              "        fill: #1967D2;\n",
              "        height: 32px;\n",
              "        padding: 0 0 0 0;\n",
              "        width: 32px;\n",
              "      }\n",
              "\n",
              "      .colab-df-generate:hover {\n",
              "        background-color: #E2EBFA;\n",
              "        box-shadow: 0px 1px 2px rgba(60, 64, 67, 0.3), 0px 1px 3px 1px rgba(60, 64, 67, 0.15);\n",
              "        fill: #174EA6;\n",
              "      }\n",
              "\n",
              "      [theme=dark] .colab-df-generate {\n",
              "        background-color: #3B4455;\n",
              "        fill: #D2E3FC;\n",
              "      }\n",
              "\n",
              "      [theme=dark] .colab-df-generate:hover {\n",
              "        background-color: #434B5C;\n",
              "        box-shadow: 0px 1px 3px 1px rgba(0, 0, 0, 0.15);\n",
              "        filter: drop-shadow(0px 1px 2px rgba(0, 0, 0, 0.3));\n",
              "        fill: #FFFFFF;\n",
              "      }\n",
              "    </style>\n",
              "    <button class=\"colab-df-generate\" onclick=\"generateWithVariable('df')\"\n",
              "            title=\"Generate code using this dataframe.\"\n",
              "            style=\"display:none;\">\n",
              "\n",
              "  <svg xmlns=\"http://www.w3.org/2000/svg\" height=\"24px\"viewBox=\"0 0 24 24\"\n",
              "       width=\"24px\">\n",
              "    <path d=\"M7,19H8.4L18.45,9,17,7.55,7,17.6ZM5,21V16.75L18.45,3.32a2,2,0,0,1,2.83,0l1.4,1.43a1.91,1.91,0,0,1,.58,1.4,1.91,1.91,0,0,1-.58,1.4L9.25,21ZM18.45,9,17,7.55Zm-12,3A5.31,5.31,0,0,0,4.9,8.1,5.31,5.31,0,0,0,1,6.5,5.31,5.31,0,0,0,4.9,4.9,5.31,5.31,0,0,0,6.5,1,5.31,5.31,0,0,0,8.1,4.9,5.31,5.31,0,0,0,12,6.5,5.46,5.46,0,0,0,6.5,12Z\"/>\n",
              "  </svg>\n",
              "    </button>\n",
              "    <script>\n",
              "      (() => {\n",
              "      const buttonEl =\n",
              "        document.querySelector('#id_f7c42954-e7e5-4e02-82ea-3f3016f06b87 button.colab-df-generate');\n",
              "      buttonEl.style.display =\n",
              "        google.colab.kernel.accessAllowed ? 'block' : 'none';\n",
              "\n",
              "      buttonEl.onclick = () => {\n",
              "        google.colab.notebook.generateWithVariable('df');\n",
              "      }\n",
              "      })();\n",
              "    </script>\n",
              "  </div>\n",
              "\n",
              "    </div>\n",
              "  </div>\n"
            ],
            "application/vnd.google.colaboratory.intrinsic+json": {
              "type": "dataframe",
              "variable_name": "df",
              "summary": "{\n  \"name\": \"df\",\n  \"rows\": 79,\n  \"fields\": [\n    {\n      \"column\": \"CategoryTitlePt\",\n      \"properties\": {\n        \"dtype\": \"category\",\n        \"num_unique_values\": 14,\n        \"samples\": [\n          \"\\u00c1guas & Refrigerantes\",\n          \"Cafetaria\",\n          \"ENTRADAS\"\n        ],\n        \"semantic_type\": \"\",\n        \"description\": \"\"\n      }\n    },\n    {\n      \"column\": \"CategoryTitleEn\",\n      \"properties\": {\n        \"dtype\": \"category\",\n        \"num_unique_values\": 12,\n        \"samples\": [\n          \"Cocktails\",\n          \"Natural Juices\",\n          \"STARTERS\"\n        ],\n        \"semantic_type\": \"\",\n        \"description\": \"\"\n      }\n    },\n    {\n      \"column\": \"SubcategoryTitlePt\",\n      \"properties\": {\n        \"dtype\": \"category\",\n        \"num_unique_values\": 4,\n        \"samples\": [\n          \"Vinho Branco\",\n          \"Vinho Tinto\",\n          \"\"\n        ],\n        \"semantic_type\": \"\",\n        \"description\": \"\"\n      }\n    },\n    {\n      \"column\": \"SubcategoryTitleEn\",\n      \"properties\": {\n        \"dtype\": \"category\",\n        \"num_unique_values\": 4,\n        \"samples\": [\n          \"White Wine\",\n          \"Red Wine\",\n          \"\"\n        ],\n        \"semantic_type\": \"\",\n        \"description\": \"\"\n      }\n    },\n    {\n      \"column\": \"ItemNamePt\",\n      \"properties\": {\n        \"dtype\": \"string\",\n        \"num_unique_values\": 77,\n        \"samples\": [\n          \"REGATTA Tuna\",\n          \"Vinho a Copo\",\n          \"Tomate & Gorgonzola\"\n        ],\n        \"semantic_type\": \"\",\n        \"description\": \"\"\n      }\n    },\n    {\n      \"column\": \"ItemNameEn\",\n      \"properties\": {\n        \"dtype\": \"string\",\n        \"num_unique_values\": 44,\n        \"samples\": [\n          \"Old Brandy\",\n          \"Mineral Water\",\n          \"Sparkling Water\"\n        ],\n        \"semantic_type\": \"\",\n        \"description\": \"\"\n      }\n    },\n    {\n      \"column\": \"ItemPrice\",\n      \"properties\": {\n        \"dtype\": \"string\",\n        \"num_unique_values\": 44,\n        \"samples\": [\n          \"2.00\",\n          \"16.40\",\n          \"4.00\"\n        ],\n        \"semantic_type\": \"\",\n        \"description\": \"\"\n      }\n    },\n    {\n      \"column\": \"Calories\",\n      \"properties\": {\n        \"dtype\": \"object\",\n        \"num_unique_values\": 1,\n        \"samples\": [\n          \"\"\n        ],\n        \"semantic_type\": \"\",\n        \"description\": \"\"\n      }\n    },\n    {\n      \"column\": \"PortionSize\",\n      \"properties\": {\n        \"dtype\": \"object\",\n        \"num_unique_values\": 1,\n        \"samples\": [\n          \"\"\n        ],\n        \"semantic_type\": \"\",\n        \"description\": \"\"\n      }\n    },\n    {\n      \"column\": \"Availability\",\n      \"properties\": {\n        \"dtype\": \"category\",\n        \"num_unique_values\": 2,\n        \"samples\": [\n          \"\"\n        ],\n        \"semantic_type\": \"\",\n        \"description\": \"\"\n      }\n    },\n    {\n      \"column\": \"ItemDescriptionPt\",\n      \"properties\": {\n        \"dtype\": \"category\",\n        \"num_unique_values\": 27,\n        \"samples\": [\n          \"Tomate, Compota de P\\u00eassego, Mozzarella, Morcela / Tomato, Peach Jam, Mozzarella, Black Pudding\"\n        ],\n        \"semantic_type\": \"\",\n        \"description\": \"\"\n      }\n    },\n    {\n      \"column\": \"ItemDescriptionEn\",\n      \"properties\": {\n        \"dtype\": \"category\",\n        \"num_unique_values\": 25,\n        \"samples\": [\n          \"Tomato, Peach Jam, Mozzarella, Black Pudding\"\n        ],\n        \"semantic_type\": \"\",\n        \"description\": \"\"\n      }\n    }\n  ]\n}"
            }
          },
          "metadata": {},
          "execution_count": 24
        }
      ]
    },
    {
      "cell_type": "markdown",
      "source": [
        "After processing all images, we save the populated DataFrame to an Excel file."
      ],
      "metadata": {
        "id": "PmUiFgHxAzaC"
      }
    },
    {
      "cell_type": "markdown",
      "source": [
        "This script demonstrates how to automate the extraction of structured data from menu images using the OpenAI GPT model.\n",
        "\n",
        "By converting menu images into a standardized Excel format, we facilitate easier data management and analysis for restaurant or cafe menus.\n",
        "\n",
        "The use of the OpenAI API for image-to-text conversion streamlines the data entry process, reducing manual effort and potential errors."
      ],
      "metadata": {
        "id": "nIq6_y5aAwCc"
      }
    },
    {
      "cell_type": "code",
      "source": [],
      "metadata": {
        "id": "KzW_Ifb5AXaO"
      },
      "execution_count": null,
      "outputs": []
    }
  ]
}